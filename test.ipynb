import pandas as pd
# from sklearn.preprocessing import StandardScaler
from sklearn.model_selection import train_test_split

import tensorflow as tf
from keras import Sequential
from keras.layers import Dense
from sklearn.metrics import confusion_matrix
from sklearn.preprocessing import StandardScaler


# df = pd.DataFrame(all_corr)
# df = df.iloc[:,:]

# X = df.iloc[:,1:]
# y = df.iloc[:,0]

# sc = StandardScaler()
# X = sc.fit_transform(X)

# X = all_corr[:][0]
# Y = all_corr[:][1]
X = []
for ff in all_corr:
  X.append(list(all_corr[ff][0]))
X = pd.DataFrame(X)
sc = StandardScaler()
X = sc.fit_transform(X)
Y = []
for jj in all_corr:
  Y.append(all_corr[jj][1])
Y = np.asarray(Y)

print(np.shape(X))
print(np.shape(Y))
# print(np.shape(Y)) #all_corr['Caltech_0051456'][0])
# print(np.shape(y_train))
